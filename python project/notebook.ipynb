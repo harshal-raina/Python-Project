{
  "cells": [
    {
      "metadata": {
        "_cell_guid": "fbc8e74f-8469-4cb4-84cc-47e4c0985793",
        "_uuid": "b5673c108aa796d93e3b10be0fba9f9fa8468e6d",
        "collapsed": true,
        "trusted": true
      },
      "cell_type": "code",
      "source": "# This Python 3 environment comes with many helpful analytics libraries installed\n# It is defined by the kaggle/python docker image: https://github.com/kaggle/docker-python\n# For example, here's several helpful packages to load in \n\nimport numpy as np # linear algebra\nimport pandas as pd # data processing, CSV file I/O (e.g. pd.read_csv)\nimport matplotlib.pyplot as plt  # For data visualization\n\n# Input data files are available in the \"../input/\" directory.\n# For example, running this (by clicking run or pressing Shift+Enter) will list the files in the input directory\n\nfrom subprocess import check_output\n#print(check_output([\"ls\", \"../input\"]).decode(\"utf8\"))\n\n# Any results you write to the current directory are saved as output.",
      "execution_count": 80,
      "outputs": []
    },
    {
      "metadata": {
        "_cell_guid": "65eeb44f-f9fa-4e77-a31c-dcf50880499f",
        "_uuid": "cd6d0178da32cdb734cf4c57865b720b2ef4dcd2",
        "collapsed": true,
        "trusted": true
      },
      "cell_type": "code",
      "source": "dfclubnames = pd.read_csv('../input/ClubNames.csv')\ndffulldata = pd.read_csv('../input/FullData.csv')\ndfnationalnames = pd.read_csv('../input/NationalNames.csv')\ndfplayernames = pd.read_csv('../input/PlayerNames.csv')",
      "execution_count": 81,
      "outputs": []
    },
    {
      "metadata": {
        "_cell_guid": "25751be3-69a9-48c6-9871-a59a6c1f9df9",
        "_uuid": "9ae363938856984948e1214ed06838a12d5699c5"
      },
      "cell_type": "markdown",
      "source": ">**1-For onfield behaviour**"
    },
    {
      "metadata": {
        "_cell_guid": "a2f17abd-03a2-4a73-8779-90da5c55b876",
        "_uuid": "72d3f831be141cbfcb52aa72ab7d2af02b0d7cbf"
      },
      "cell_type": "markdown",
      "source": "    For Onfield Behaviour I am considering following features:\n\n    Attribute       Expected behaviour\n    \n    Aggression          Less\n    Reaction            Less\n    Interception        Less\n    Composure           More\n    Vision              More"
    },
    {
      "metadata": {
        "_cell_guid": "10acdbfa-13fd-4da1-a174-f0799009845f",
        "_uuid": "f9104a18161bf6d0c209e7591637ad2f33218e94"
      },
      "cell_type": "markdown",
      "source": "    First Normalizing each of the columns specified above\n    so as use all of them for Comparision"
    },
    {
      "metadata": {
        "_cell_guid": "1c07953e-9ff6-41a5-9921-cde168452180",
        "_uuid": "de0ceae97aa87820882d719ab3a0dc07e43f8fde",
        "collapsed": true,
        "trusted": true
      },
      "cell_type": "code",
      "source": "Feature_set = ['Agility', 'Reactions', 'Interceptions', 'Composure', 'Vision']",
      "execution_count": 82,
      "outputs": []
    },
    {
      "metadata": {
        "_cell_guid": "213c1650-ac57-4030-8a73-ac449efa10a5",
        "_uuid": "f3dcb4206862ef66629a7d140079d3ac041beecf",
        "collapsed": true,
        "trusted": true
      },
      "cell_type": "code",
      "source": "for features in Feature_set:\n    dffulldata[features] = (dffulldata[features] - dffulldata[features].mean()) / (max(dffulldata[features]) - min(dffulldata[features]))\n",
      "execution_count": 83,
      "outputs": []
    },
    {
      "metadata": {
        "_cell_guid": "c51240c4-a20d-4283-8748-9a2317fb19bd",
        "_uuid": "2d7bb26908ae7ae0e57f1997ea829f1440336a6a",
        "trusted": true
      },
      "cell_type": "code",
      "source": "dffulldata[['Name', 'Aggression', 'Reactions', 'Interceptions', 'Composure', 'Vision']].head()",
      "execution_count": 84,
      "outputs": [
        {
          "output_type": "execute_result",
          "execution_count": 84,
          "data": {
            "text/plain": "                Name  Aggression  Reactions  Interceptions  Composure  \\\n0  Cristiano Ronaldo          63   0.510887      -0.197712   0.338729   \n1       Lionel Messi          48   0.495961      -0.275490   0.428616   \n2             Neymar          56   0.391484      -0.119934   0.271313   \n3        Luis Suárez          78   0.466111      -0.064378   0.305021   \n4       Manuel Neuer          29   0.346708      -0.186601   0.158953   \n\n     Vision  \n0  0.384430  \n1  0.443954  \n2  0.324906  \n3  0.372525  \n4  0.205859  ",
            "text/html": "<div>\n<style scoped>\n    .dataframe tbody tr th:only-of-type {\n        vertical-align: middle;\n    }\n\n    .dataframe tbody tr th {\n        vertical-align: top;\n    }\n\n    .dataframe thead th {\n        text-align: right;\n    }\n</style>\n<table border=\"1\" class=\"dataframe\">\n  <thead>\n    <tr style=\"text-align: right;\">\n      <th></th>\n      <th>Name</th>\n      <th>Aggression</th>\n      <th>Reactions</th>\n      <th>Interceptions</th>\n      <th>Composure</th>\n      <th>Vision</th>\n    </tr>\n  </thead>\n  <tbody>\n    <tr>\n      <th>0</th>\n      <td>Cristiano Ronaldo</td>\n      <td>63</td>\n      <td>0.510887</td>\n      <td>-0.197712</td>\n      <td>0.338729</td>\n      <td>0.384430</td>\n    </tr>\n    <tr>\n      <th>1</th>\n      <td>Lionel Messi</td>\n      <td>48</td>\n      <td>0.495961</td>\n      <td>-0.275490</td>\n      <td>0.428616</td>\n      <td>0.443954</td>\n    </tr>\n    <tr>\n      <th>2</th>\n      <td>Neymar</td>\n      <td>56</td>\n      <td>0.391484</td>\n      <td>-0.119934</td>\n      <td>0.271313</td>\n      <td>0.324906</td>\n    </tr>\n    <tr>\n      <th>3</th>\n      <td>Luis Suárez</td>\n      <td>78</td>\n      <td>0.466111</td>\n      <td>-0.064378</td>\n      <td>0.305021</td>\n      <td>0.372525</td>\n    </tr>\n    <tr>\n      <th>4</th>\n      <td>Manuel Neuer</td>\n      <td>29</td>\n      <td>0.346708</td>\n      <td>-0.186601</td>\n      <td>0.158953</td>\n      <td>0.205859</td>\n    </tr>\n  </tbody>\n</table>\n</div>"
          },
          "metadata": {}
        }
      ]
    },
    {
      "metadata": {
        "_cell_guid": "7e06aa1c-d7b8-4581-92c4-983993a5304d",
        "_uuid": "d755fd1b01e244cde54a5f60028b2eca6a450032",
        "collapsed": true,
        "trusted": true
      },
      "cell_type": "code",
      "source": "dffulldata['Onfield_behaviour'] = (-dffulldata['Aggression'] - dffulldata ['Reactions'] - dffulldata['Interceptions']\n+dffulldata['Composure'] + dffulldata['Vision']) / 5.0;",
      "execution_count": 85,
      "outputs": []
    },
    {
      "metadata": {
        "_cell_guid": "6bae0a4e-fd40-499c-8a5d-0661ce9cb0b4",
        "_uuid": "5027a128f30e66a7bb4f2bf26ba92ba7db39b839",
        "trusted": true
      },
      "cell_type": "code",
      "source": "dffulldata[['Name', 'Onfield_behaviour']].head(10)",
      "execution_count": 86,
      "outputs": [
        {
          "output_type": "execute_result",
          "execution_count": 86,
          "data": {
            "text/plain": "                 Name  Onfield_behaviour\n0   Cristiano Ronaldo         -12.518003\n1        Lionel Messi          -9.469580\n2              Neymar         -11.135066\n3         Luis Suárez         -15.544837\n4        Manuel Neuer          -5.759059\n5              De Gea          -7.595248\n6  Robert Lewandowski         -15.930764\n7         Gareth Bale         -12.974337\n8  Zlatan Ibrahimović         -16.658693\n9    Thibaut Courtois          -4.616140",
            "text/html": "<div>\n<style scoped>\n    .dataframe tbody tr th:only-of-type {\n        vertical-align: middle;\n    }\n\n    .dataframe tbody tr th {\n        vertical-align: top;\n    }\n\n    .dataframe thead th {\n        text-align: right;\n    }\n</style>\n<table border=\"1\" class=\"dataframe\">\n  <thead>\n    <tr style=\"text-align: right;\">\n      <th></th>\n      <th>Name</th>\n      <th>Onfield_behaviour</th>\n    </tr>\n  </thead>\n  <tbody>\n    <tr>\n      <th>0</th>\n      <td>Cristiano Ronaldo</td>\n      <td>-12.518003</td>\n    </tr>\n    <tr>\n      <th>1</th>\n      <td>Lionel Messi</td>\n      <td>-9.469580</td>\n    </tr>\n    <tr>\n      <th>2</th>\n      <td>Neymar</td>\n      <td>-11.135066</td>\n    </tr>\n    <tr>\n      <th>3</th>\n      <td>Luis Suárez</td>\n      <td>-15.544837</td>\n    </tr>\n    <tr>\n      <th>4</th>\n      <td>Manuel Neuer</td>\n      <td>-5.759059</td>\n    </tr>\n    <tr>\n      <th>5</th>\n      <td>De Gea</td>\n      <td>-7.595248</td>\n    </tr>\n    <tr>\n      <th>6</th>\n      <td>Robert Lewandowski</td>\n      <td>-15.930764</td>\n    </tr>\n    <tr>\n      <th>7</th>\n      <td>Gareth Bale</td>\n      <td>-12.974337</td>\n    </tr>\n    <tr>\n      <th>8</th>\n      <td>Zlatan Ibrahimović</td>\n      <td>-16.658693</td>\n    </tr>\n    <tr>\n      <th>9</th>\n      <td>Thibaut Courtois</td>\n      <td>-4.616140</td>\n    </tr>\n  </tbody>\n</table>\n</div>"
          },
          "metadata": {}
        }
      ]
    },
    {
      "metadata": {
        "_cell_guid": "d4b2ac02-1837-406a-813a-2babf8abc5cc",
        "_uuid": "ac532d0972ba3992f5e56afd261a9f49d539a8fe",
        "trusted": true
      },
      "cell_type": "code",
      "source": "#Find the Index of best Onfield-behaviour player\n\nBest_Index = np.argmax(dffulldata['Onfield_behaviour'])\nBest_Index",
      "execution_count": 87,
      "outputs": [
        {
          "output_type": "stream",
          "text": "/opt/conda/lib/python3.6/site-packages/numpy/core/fromnumeric.py:57: FutureWarning: 'argmax' is deprecated. Use 'idxmax' instead. The behavior of 'argmax' will be corrected to return the positional maximum in the future. Use 'series.values.argmax' to get the position of the maximum now.\n  return getattr(obj, method)(*args, **kwds)\n",
          "name": "stderr"
        },
        {
          "output_type": "execute_result",
          "execution_count": 87,
          "data": {
            "text/plain": "6145"
          },
          "metadata": {}
        }
      ]
    },
    {
      "metadata": {
        "_cell_guid": "c8aaa585-0810-4988-95df-b70fd6d87fb7",
        "_uuid": "8db485e849bad6958ad62d0a79f1467266c96ebe",
        "trusted": true
      },
      "cell_type": "code",
      "source": "#Best Onfield score\n\ndffulldata['Onfield_behaviour'][Best_Index]",
      "execution_count": 88,
      "outputs": [
        {
          "output_type": "execute_result",
          "execution_count": 88,
          "data": {
            "text/plain": "-0.47280494647204457"
          },
          "metadata": {}
        }
      ]
    },
    {
      "metadata": {
        "_cell_guid": "5e165369-5af8-48d8-afc0-8c74022b42b2",
        "_uuid": "8c44e39d6ee6e260893237c3bcd9575ff003e15d",
        "trusted": true
      },
      "cell_type": "code",
      "source": "#Display the best player\n\ndffulldata.loc[[Best_Index]]",
      "execution_count": 89,
      "outputs": [
        {
          "output_type": "execute_result",
          "execution_count": 89,
          "data": {
            "text/plain": "             Name Nationality National_Position  National_Kit            Club  \\\n6145  Matej Delač     Croatia               NaN           NaN  Royal Mouscron   \n\n     Club_Position  Club_Kit Club_Joining  Contract_Expiry  Rating  \\\n6145            GK      21.0   09/01/2010           2018.0      69   \n\n            ...         Curve Freekick_Accuracy Penalties Volleys  \\\n6145        ...            15                17        19      12   \n\n      GK_Positioning GK_Diving GK_Kicking  GK_Handling  GK_Reflexes  \\\n6145              64        71         64           67           73   \n\n      Onfield_behaviour  \n6145          -0.472805  \n\n[1 rows x 54 columns]",
            "text/html": "<div>\n<style scoped>\n    .dataframe tbody tr th:only-of-type {\n        vertical-align: middle;\n    }\n\n    .dataframe tbody tr th {\n        vertical-align: top;\n    }\n\n    .dataframe thead th {\n        text-align: right;\n    }\n</style>\n<table border=\"1\" class=\"dataframe\">\n  <thead>\n    <tr style=\"text-align: right;\">\n      <th></th>\n      <th>Name</th>\n      <th>Nationality</th>\n      <th>National_Position</th>\n      <th>National_Kit</th>\n      <th>Club</th>\n      <th>Club_Position</th>\n      <th>Club_Kit</th>\n      <th>Club_Joining</th>\n      <th>Contract_Expiry</th>\n      <th>Rating</th>\n      <th>...</th>\n      <th>Curve</th>\n      <th>Freekick_Accuracy</th>\n      <th>Penalties</th>\n      <th>Volleys</th>\n      <th>GK_Positioning</th>\n      <th>GK_Diving</th>\n      <th>GK_Kicking</th>\n      <th>GK_Handling</th>\n      <th>GK_Reflexes</th>\n      <th>Onfield_behaviour</th>\n    </tr>\n  </thead>\n  <tbody>\n    <tr>\n      <th>6145</th>\n      <td>Matej Delač</td>\n      <td>Croatia</td>\n      <td>NaN</td>\n      <td>NaN</td>\n      <td>Royal Mouscron</td>\n      <td>GK</td>\n      <td>21.0</td>\n      <td>09/01/2010</td>\n      <td>2018.0</td>\n      <td>69</td>\n      <td>...</td>\n      <td>15</td>\n      <td>17</td>\n      <td>19</td>\n      <td>12</td>\n      <td>64</td>\n      <td>71</td>\n      <td>64</td>\n      <td>67</td>\n      <td>73</td>\n      <td>-0.472805</td>\n    </tr>\n  </tbody>\n</table>\n<p>1 rows × 54 columns</p>\n</div>"
          },
          "metadata": {}
        }
      ]
    },
    {
      "metadata": {
        "_cell_guid": "7d290217-b9ca-4ad0-821e-ffe3d1b39c04",
        "_uuid": "b15f3bc8050aadc773697b5fca969e824d273e8a"
      },
      "cell_type": "markdown",
      "source": "* >**Analytics On Average, Minimum, Maximum Age of Players in different country**"
    },
    {
      "metadata": {
        "_cell_guid": "47430363-2b35-48c6-8ab7-b53dfec6cc44",
        "_uuid": "19b9f252b6f2f4f09aa285b8447332830048ae57",
        "trusted": true
      },
      "cell_type": "code",
      "source": "dffulldata.groupby('Nationality').Age.agg(['mean', 'max', 'min']).head()",
      "execution_count": 90,
      "outputs": [
        {
          "output_type": "execute_result",
          "execution_count": 90,
          "data": {
            "text/plain": "                        mean  max  min\nNationality                           \nAfghanistan        19.500000   20   19\nAlbania            24.297297   31   18\nAlgeria            26.840000   34   19\nAngola             26.272727   34   20\nAntigua & Barbuda  26.500000   30   21",
            "text/html": "<div>\n<style scoped>\n    .dataframe tbody tr th:only-of-type {\n        vertical-align: middle;\n    }\n\n    .dataframe tbody tr th {\n        vertical-align: top;\n    }\n\n    .dataframe thead th {\n        text-align: right;\n    }\n</style>\n<table border=\"1\" class=\"dataframe\">\n  <thead>\n    <tr style=\"text-align: right;\">\n      <th></th>\n      <th>mean</th>\n      <th>max</th>\n      <th>min</th>\n    </tr>\n    <tr>\n      <th>Nationality</th>\n      <th></th>\n      <th></th>\n      <th></th>\n    </tr>\n  </thead>\n  <tbody>\n    <tr>\n      <th>Afghanistan</th>\n      <td>19.500000</td>\n      <td>20</td>\n      <td>19</td>\n    </tr>\n    <tr>\n      <th>Albania</th>\n      <td>24.297297</td>\n      <td>31</td>\n      <td>18</td>\n    </tr>\n    <tr>\n      <th>Algeria</th>\n      <td>26.840000</td>\n      <td>34</td>\n      <td>19</td>\n    </tr>\n    <tr>\n      <th>Angola</th>\n      <td>26.272727</td>\n      <td>34</td>\n      <td>20</td>\n    </tr>\n    <tr>\n      <th>Antigua &amp; Barbuda</th>\n      <td>26.500000</td>\n      <td>30</td>\n      <td>21</td>\n    </tr>\n  </tbody>\n</table>\n</div>"
          },
          "metadata": {}
        }
      ]
    },
    {
      "metadata": {
        "_cell_guid": "f4b2dcb6-9e91-4db5-817f-42faf6b6d659",
        "_uuid": "9a55e082909361a94f5ac8287c6300b43a950d8f"
      },
      "cell_type": "markdown",
      "source": "* >**Analytics on what attributes the different club prefers**"
    },
    {
      "metadata": {
        "_cell_guid": "a7db9530-03bb-454a-87a5-976f6700ab41",
        "_uuid": "adcb042a326ab63b1d7418a52745a26bd552d571",
        "collapsed": true,
        "trusted": true
      },
      "cell_type": "code",
      "source": "dffulldata = pd.read_csv('../input/FullData.csv')",
      "execution_count": 91,
      "outputs": []
    },
    {
      "metadata": {
        "_cell_guid": "62305ce8-ad4c-407f-8499-c409654fae7e",
        "_uuid": "b1ed4417858881fd0aafd3c73038d476f397d5b7",
        "collapsed": true,
        "trusted": true
      },
      "cell_type": "code",
      "source": "Feature_set = [ 'Ball_Control', 'Dribbling', 'Crossing','Short_Pass',\n              'Long_Pass', 'Acceleration', 'Speed','Stamina', 'Strength','Agility'\n               , 'Shot_Power', 'Finishing', 'Long_Shots']",
      "execution_count": 92,
      "outputs": []
    },
    {
      "metadata": {
        "_cell_guid": "bbdedba3-eb9b-4d66-a9ca-5b3cdb40f5a0",
        "_uuid": "4f261b04ba1fb602414f5a842ea3d372d2d096db",
        "collapsed": true,
        "trusted": true
      },
      "cell_type": "code",
      "source": "'''Normalizing the data on the Above attributes'''\n\nfor features in Feature_set:\n    dffulldata[features] = (dffulldata[features] - dffulldata[features].mean()) / (max(dffulldata[features]) - min(dffulldata[features]))",
      "execution_count": 93,
      "outputs": []
    },
    {
      "metadata": {
        "_cell_guid": "d5936bf5-9647-495a-90c8-99c02ff8b76f",
        "_uuid": "d214a5ac22bdf6df3f81cfb032b1724e22e823a3",
        "trusted": true
      },
      "cell_type": "code",
      "source": "'''Displaying all the normalized Attributes'''\ndffulldata[Feature_set].head(3)",
      "execution_count": 94,
      "outputs": [
        {
          "output_type": "execute_result",
          "execution_count": 94,
          "data": {
            "text/plain": "   Ball_Control  Dribbling  Crossing  Short_Pass  Long_Pass  Acceleration  \\\n0      0.389191   0.399969  0.403046    0.303417   0.286092      0.302496   \n1      0.411414   0.453733  0.320693    0.364393   0.402371      0.314260   \n2      0.411414   0.442980  0.297164    0.279027   0.262836      0.326025   \n\n      Speed   Stamina  Strength   Agility  Shot_Power  Finishing  Long_Shots  \n0  0.311955  0.335566  0.191207  0.315215    0.404653   0.514434    0.489619  \n1  0.253131  0.123801 -0.078024  0.315215    0.326876   0.535940    0.466630  \n2  0.288425  0.182625 -0.206229  0.385803    0.249098   0.471424    0.340193  ",
            "text/html": "<div>\n<style scoped>\n    .dataframe tbody tr th:only-of-type {\n        vertical-align: middle;\n    }\n\n    .dataframe tbody tr th {\n        vertical-align: top;\n    }\n\n    .dataframe thead th {\n        text-align: right;\n    }\n</style>\n<table border=\"1\" class=\"dataframe\">\n  <thead>\n    <tr style=\"text-align: right;\">\n      <th></th>\n      <th>Ball_Control</th>\n      <th>Dribbling</th>\n      <th>Crossing</th>\n      <th>Short_Pass</th>\n      <th>Long_Pass</th>\n      <th>Acceleration</th>\n      <th>Speed</th>\n      <th>Stamina</th>\n      <th>Strength</th>\n      <th>Agility</th>\n      <th>Shot_Power</th>\n      <th>Finishing</th>\n      <th>Long_Shots</th>\n    </tr>\n  </thead>\n  <tbody>\n    <tr>\n      <th>0</th>\n      <td>0.389191</td>\n      <td>0.399969</td>\n      <td>0.403046</td>\n      <td>0.303417</td>\n      <td>0.286092</td>\n      <td>0.302496</td>\n      <td>0.311955</td>\n      <td>0.335566</td>\n      <td>0.191207</td>\n      <td>0.315215</td>\n      <td>0.404653</td>\n      <td>0.514434</td>\n      <td>0.489619</td>\n    </tr>\n    <tr>\n      <th>1</th>\n      <td>0.411414</td>\n      <td>0.453733</td>\n      <td>0.320693</td>\n      <td>0.364393</td>\n      <td>0.402371</td>\n      <td>0.314260</td>\n      <td>0.253131</td>\n      <td>0.123801</td>\n      <td>-0.078024</td>\n      <td>0.315215</td>\n      <td>0.326876</td>\n      <td>0.535940</td>\n      <td>0.466630</td>\n    </tr>\n    <tr>\n      <th>2</th>\n      <td>0.411414</td>\n      <td>0.442980</td>\n      <td>0.297164</td>\n      <td>0.279027</td>\n      <td>0.262836</td>\n      <td>0.326025</td>\n      <td>0.288425</td>\n      <td>0.182625</td>\n      <td>-0.206229</td>\n      <td>0.385803</td>\n      <td>0.249098</td>\n      <td>0.471424</td>\n      <td>0.340193</td>\n    </tr>\n  </tbody>\n</table>\n</div>"
          },
          "metadata": {}
        }
      ]
    },
    {
      "metadata": {
        "_cell_guid": "2a4cad55-adeb-4ea1-8f17-3ac0af65603d",
        "_uuid": "1815b4d32639f65946749526ac05a23922c3a5a9",
        "trusted": true
      },
      "cell_type": "code",
      "source": "Club_Feature = (dffulldata.groupby(['Club'])[Feature_set].mean())\nClub_Feature.head(3)",
      "execution_count": 95,
      "outputs": [
        {
          "output_type": "execute_result",
          "execution_count": 95,
          "data": {
            "text/plain": "                  Ball_Control  Dribbling  Crossing  Short_Pass  Long_Pass  \\\nClub                                                                         \n1. FC Heidenheim     -0.027253  -0.032289 -0.044954   -0.023900  -0.063675   \n1. FC Köln            0.040474   0.036859  0.038340    0.057638   0.048167   \n1. FC Nürnberg        0.011811   0.008264  0.042122   -0.005381   0.007022   \n\n                  Acceleration     Speed   Stamina  Strength   Agility  \\\nClub                                                                     \n1. FC Heidenheim     -0.024563 -0.006163 -0.009375  0.008130  0.018744   \n1. FC Köln           -0.011531  0.003357 -0.000181  0.050674  0.013405   \n1. FC Nürnberg       -0.008849  0.011955 -0.033342  0.052471 -0.016298   \n\n                  Shot_Power  Finishing  Long_Shots  \nClub                                                 \n1. FC Heidenheim    0.008209  -0.020619   -0.028082  \n1. FC Köln          0.073457   0.033872    0.034712  \n1. FC Nürnberg     -0.005267  -0.028960   -0.005866  ",
            "text/html": "<div>\n<style scoped>\n    .dataframe tbody tr th:only-of-type {\n        vertical-align: middle;\n    }\n\n    .dataframe tbody tr th {\n        vertical-align: top;\n    }\n\n    .dataframe thead th {\n        text-align: right;\n    }\n</style>\n<table border=\"1\" class=\"dataframe\">\n  <thead>\n    <tr style=\"text-align: right;\">\n      <th></th>\n      <th>Ball_Control</th>\n      <th>Dribbling</th>\n      <th>Crossing</th>\n      <th>Short_Pass</th>\n      <th>Long_Pass</th>\n      <th>Acceleration</th>\n      <th>Speed</th>\n      <th>Stamina</th>\n      <th>Strength</th>\n      <th>Agility</th>\n      <th>Shot_Power</th>\n      <th>Finishing</th>\n      <th>Long_Shots</th>\n    </tr>\n    <tr>\n      <th>Club</th>\n      <th></th>\n      <th></th>\n      <th></th>\n      <th></th>\n      <th></th>\n      <th></th>\n      <th></th>\n      <th></th>\n      <th></th>\n      <th></th>\n      <th></th>\n      <th></th>\n      <th></th>\n    </tr>\n  </thead>\n  <tbody>\n    <tr>\n      <th>1. FC Heidenheim</th>\n      <td>-0.027253</td>\n      <td>-0.032289</td>\n      <td>-0.044954</td>\n      <td>-0.023900</td>\n      <td>-0.063675</td>\n      <td>-0.024563</td>\n      <td>-0.006163</td>\n      <td>-0.009375</td>\n      <td>0.008130</td>\n      <td>0.018744</td>\n      <td>0.008209</td>\n      <td>-0.020619</td>\n      <td>-0.028082</td>\n    </tr>\n    <tr>\n      <th>1. FC Köln</th>\n      <td>0.040474</td>\n      <td>0.036859</td>\n      <td>0.038340</td>\n      <td>0.057638</td>\n      <td>0.048167</td>\n      <td>-0.011531</td>\n      <td>0.003357</td>\n      <td>-0.000181</td>\n      <td>0.050674</td>\n      <td>0.013405</td>\n      <td>0.073457</td>\n      <td>0.033872</td>\n      <td>0.034712</td>\n    </tr>\n    <tr>\n      <th>1. FC Nürnberg</th>\n      <td>0.011811</td>\n      <td>0.008264</td>\n      <td>0.042122</td>\n      <td>-0.005381</td>\n      <td>0.007022</td>\n      <td>-0.008849</td>\n      <td>0.011955</td>\n      <td>-0.033342</td>\n      <td>0.052471</td>\n      <td>-0.016298</td>\n      <td>-0.005267</td>\n      <td>-0.028960</td>\n      <td>-0.005866</td>\n    </tr>\n  </tbody>\n</table>\n</div>"
          },
          "metadata": {}
        }
      ]
    },
    {
      "metadata": {
        "_cell_guid": "034cd3a7-3e32-42ad-9659-5eb5491562d3",
        "_uuid": "6032ea012db357864290d5795f9308f8ec060d69",
        "trusted": true
      },
      "cell_type": "code",
      "source": "Club_Feature.columns",
      "execution_count": 96,
      "outputs": [
        {
          "output_type": "execute_result",
          "execution_count": 96,
          "data": {
            "text/plain": "Index(['Ball_Control', 'Dribbling', 'Crossing', 'Short_Pass', 'Long_Pass',\n       'Acceleration', 'Speed', 'Stamina', 'Strength', 'Agility', 'Shot_Power',\n       'Finishing', 'Long_Shots'],\n      dtype='object')"
          },
          "metadata": {}
        }
      ]
    },
    {
      "metadata": {
        "_cell_guid": "e00b8c0e-2e25-4dc9-a6d3-4516393e71ce",
        "_uuid": "160197e462b31d297d2fba8539ba9b64f8852e1a",
        "collapsed": true,
        "trusted": true
      },
      "cell_type": "code",
      "source": "'''Finding the number of rows'''\nnum_rows = Club_Feature.shape[0]",
      "execution_count": 97,
      "outputs": []
    },
    {
      "metadata": {
        "_cell_guid": "03f7e041-d285-4838-b5fe-6e0d5d9cfe38",
        "_uuid": "2921d663d0aea0d2ea104ba32aaf213d79baa94a"
      },
      "cell_type": "markdown",
      "source": ">Checkpoint"
    },
    {
      "metadata": {
        "_cell_guid": "d8b43d7c-ef3c-4b98-9fc9-14f978a8ec8b",
        "_uuid": "45ffebb0aa6dc8e50f2300ac139bff100b0c6116",
        "trusted": true
      },
      "cell_type": "code",
      "source": "'''Club_Wise_Feature is a dictionary that stores the the best feature Club-wise'''\n\nClub_Wise_Feature = {}\n\nClub_names = list(dfclubnames['Name'])\nfor clubs in Club_names[0:100]:\n    Club_Wise_Feature[clubs] = np.argmax(Club_Feature.loc[clubs, :])\nClub_Wise_Feature",
      "execution_count": 98,
      "outputs": [
        {
          "output_type": "stream",
          "text": "/opt/conda/lib/python3.6/site-packages/numpy/core/fromnumeric.py:57: FutureWarning: 'argmax' is deprecated. Use 'idxmax' instead. The behavior of 'argmax' will be corrected to return the positional maximum in the future. Use 'series.values.argmax' to get the position of the maximum now.\n  return getattr(obj, method)(*args, **kwds)\n",
          "name": "stderr"
        },
        {
          "output_type": "execute_result",
          "execution_count": 98,
          "data": {
            "text/plain": "{'1. FC Köln': 'Shot_Power',\n '1. FSV Mainz 05': 'Dribbling',\n '1899 Hoffenheim': 'Shot_Power',\n 'AS Monaco': 'Short_Pass',\n 'AS Saint-Étienne': 'Crossing',\n 'Ajax': 'Ball_Control',\n 'Arsenal': 'Short_Pass',\n 'Atalanta': 'Shot_Power',\n 'Athletic Bilbao': 'Long_Pass',\n 'Atlético Madrid': 'Short_Pass',\n 'Bayer 04': 'Short_Pass',\n 'Beşiktaş': 'Shot_Power',\n 'Bologna': 'Long_Pass',\n 'Bor. Dortmund': 'Short_Pass',\n \"Bor. M'gladbach\": 'Short_Pass',\n 'Bournemouth': 'Acceleration',\n 'CD Leganés': 'Short_Pass',\n 'CSKA Moscow': 'Long_Shots',\n 'Celta Vigo': 'Short_Pass',\n 'Chelsea': 'Ball_Control',\n 'Chievo Verona': 'Shot_Power',\n 'Club Brugge': 'Long_Pass',\n 'Crystal Palace': 'Crossing',\n 'Deport. Alavés': 'Ball_Control',\n 'Eint. Frankfurt': 'Ball_Control',\n 'Everton': 'Dribbling',\n 'FC Augsburg': 'Shot_Power',\n 'FC Barcelona': 'Short_Pass',\n 'FC Basel': 'Strength',\n 'FC Bayern': 'Long_Pass',\n 'FC Krasnodar': 'Long_Shots',\n 'FC Porto': 'Dribbling',\n 'FC Schalke 04': 'Crossing',\n 'Fenerbahçe': 'Long_Pass',\n 'Feyenoord': 'Long_Shots',\n 'Fiorentina': 'Short_Pass',\n 'Galatasaray': 'Long_Pass',\n 'Genoa': 'Ball_Control',\n 'Giron. Bordeaux': 'Crossing',\n 'Hamburger SV': 'Crossing',\n 'Hertha BSC': 'Short_Pass',\n 'Hull City': 'Finishing',\n 'Inter': 'Shot_Power',\n 'Juventus': 'Long_Shots',\n 'LOSC Lille': 'Crossing',\n 'Lazio': 'Long_Shots',\n 'Leicester City': 'Strength',\n 'Levante UD': 'Long_Shots',\n 'Liverpool': 'Short_Pass',\n 'Lokomotiv Moscow': 'Long_Pass',\n 'Manchester City': 'Ball_Control',\n 'Manchester Utd': 'Short_Pass',\n 'Medipol Başakşehir': 'Long_Shots',\n 'Middlesbrough': 'Ball_Control',\n 'Milan': 'Dribbling',\n 'Monterrey': 'Stamina',\n 'Málaga CF': 'Short_Pass',\n 'Napoli': 'Ball_Control',\n 'OGC Nice': 'Short_Pass',\n 'Olym. Lyonnais': 'Short_Pass',\n 'Olym. Marseille': 'Crossing',\n 'PSG': 'Short_Pass',\n 'PSV': 'Long_Pass',\n 'RC Deportivo': 'Long_Pass',\n 'RCD Espanyol': 'Short_Pass',\n 'RSC Anderlecht': 'Long_Pass',\n 'Real Betis': 'Short_Pass',\n 'Real Madrid': 'Long_Shots',\n 'Real Sociedad': 'Short_Pass',\n 'River Plate': 'Stamina',\n 'Roma': 'Ball_Control',\n 'Rubin Kazan': 'Crossing',\n 'SC Braga': 'Ball_Control',\n 'SD Eibar': 'Short_Pass',\n 'SL Benfica': 'Dribbling',\n 'Sampdoria': 'Long_Pass',\n 'San Lorenzo': 'Long_Pass',\n 'Sassuolo': 'Long_Shots',\n 'Sevilla FC': 'Long_Pass',\n 'Shakhtar Donetsk': 'Long_Shots',\n 'Southampton': 'Crossing',\n 'Spartak Moscow': 'Long_Pass',\n 'Sporting CP': 'Shot_Power',\n 'Spurs': 'Short_Pass',\n 'Stade Rennais': 'Short_Pass',\n 'Stoke City': 'Finishing',\n 'Sunderland': 'Long_Pass',\n 'Swansea City': 'Finishing',\n 'Tigres': 'Long_Pass',\n 'Torino': 'Shot_Power',\n 'UD Las Palmas': 'Short_Pass',\n 'Udinese': 'Shot_Power',\n 'Valencia CF': 'Crossing',\n 'VfL Wolfsburg': 'Short_Pass',\n 'Villarreal CF': 'Short_Pass',\n 'Watford': 'Strength',\n 'Werder Bremen': 'Dribbling',\n 'West Brom': 'Shot_Power',\n 'West Ham': 'Shot_Power',\n 'Zenit': 'Long_Pass'}"
          },
          "metadata": {}
        }
      ]
    },
    {
      "metadata": {
        "_cell_guid": "7398c9e3-7fe9-41c1-9f1c-fce905e07e34",
        "_uuid": "11221287f333a181d3cd39f67ee80205857567b1",
        "trusted": true
      },
      "cell_type": "code",
      "source": "%matplotlib inline\nplt.style.use('ggplot')\nClub_Feature.loc[['Real Madrid', 'FC Barcelona']].plot(kind = 'bar')\nplt.show()",
      "execution_count": 131,
      "outputs": [
        {
          "output_type": "display_data",
          "data": {
            "text/plain": "<matplotlib.figure.Figure at 0x7f92acada080>",
            "image/png": "[encoded data removed]"
          },
          "metadata": {}
        }
      ]
    },
    {
      "metadata": {
        "_cell_guid": "78754b95-4bb9-440d-8aaf-24a5d80368e5",
        "_uuid": "9d980647a97d45a016b679103ef1964fa59fa70e"
      },
      "cell_type": "markdown",
      "source": "* >**Analytics on the Contract-Period :- Most Loyal Player of a club**"
    },
    {
      "metadata": {
        "_cell_guid": "6634b823-8aeb-4892-aa11-9cfe9167c405",
        "_uuid": "11c00c7c5a2d3d4a417471b708c103f8bf501446",
        "collapsed": true,
        "trusted": true
      },
      "cell_type": "code",
      "source": "dffulldata = pd.read_csv('../input/FullData.csv')",
      "execution_count": 100,
      "outputs": []
    },
    {
      "metadata": {
        "_cell_guid": "ce8781f9-66fd-4784-8efd-3a3251255f52",
        "_uuid": "e1526e874f1db474347dd55d2652d746123517ab",
        "collapsed": true,
        "trusted": true
      },
      "cell_type": "code",
      "source": "'''Converting the Club_Joining Attribute to standard date_time format of pandas\nAnd Extracting the Year from Club_Joining Attribute'''\n\ndffulldata['Club_Joining'] = pd.to_datetime(dffulldata.Club_Joining)\ndffulldata['Contract_Year'] = dffulldata.Club_Joining.dt.year\ndffulldata['Contract_Validity'] = dffulldata['Contract_Expiry'] - dffulldata['Contract_Year']",
      "execution_count": 101,
      "outputs": []
    },
    {
      "metadata": {
        "_cell_guid": "647cbf06-def3-4d8b-b9c5-b39c2cef9942",
        "_uuid": "486615a5d738d9cc105b35ebb3fdde91c7cb9c1d",
        "trusted": true
      },
      "cell_type": "code",
      "source": "'''Max_Contract_Period is a dataframe contain Player in a Club having max Contract_Period'''\n\nMax_Contract_Period = dffulldata.groupby('Club')['Contract_Validity', 'Name'].max()\nMax_Contract_Period.head()",
      "execution_count": 102,
      "outputs": [
        {
          "output_type": "execute_result",
          "execution_count": 102,
          "data": {
            "text/plain": "                  Contract_Validity            Name\nClub                                               \n1. FC Heidenheim               12.0    Vitus Eicher\n1. FC Köln                     12.0      Yūya Ōsako\n1. FC Nürnberg                  9.0    Willi Evseev\n1. FSV Mainz 05                11.0  Yoshinori Mutō\n1860 München                    8.0  Victor Andrade",
            "text/html": "<div>\n<style scoped>\n    .dataframe tbody tr th:only-of-type {\n        vertical-align: middle;\n    }\n\n    .dataframe tbody tr th {\n        vertical-align: top;\n    }\n\n    .dataframe thead th {\n        text-align: right;\n    }\n</style>\n<table border=\"1\" class=\"dataframe\">\n  <thead>\n    <tr style=\"text-align: right;\">\n      <th></th>\n      <th>Contract_Validity</th>\n      <th>Name</th>\n    </tr>\n    <tr>\n      <th>Club</th>\n      <th></th>\n      <th></th>\n    </tr>\n  </thead>\n  <tbody>\n    <tr>\n      <th>1. FC Heidenheim</th>\n      <td>12.0</td>\n      <td>Vitus Eicher</td>\n    </tr>\n    <tr>\n      <th>1. FC Köln</th>\n      <td>12.0</td>\n      <td>Yūya Ōsako</td>\n    </tr>\n    <tr>\n      <th>1. FC Nürnberg</th>\n      <td>9.0</td>\n      <td>Willi Evseev</td>\n    </tr>\n    <tr>\n      <th>1. FSV Mainz 05</th>\n      <td>11.0</td>\n      <td>Yoshinori Mutō</td>\n    </tr>\n    <tr>\n      <th>1860 München</th>\n      <td>8.0</td>\n      <td>Victor Andrade</td>\n    </tr>\n  </tbody>\n</table>\n</div>"
          },
          "metadata": {}
        }
      ]
    },
    {
      "metadata": {
        "_cell_guid": "2572c45c-e9bc-4a51-bb82-8b2052b4d1d8",
        "_uuid": "0a2e45edbbc6f19de24ec9d0f310d4327022108a",
        "trusted": true
      },
      "cell_type": "code",
      "source": "'''Plotting the Max_Contract_Period for Top_Clubs'''\n\nplt.style.use('ggplot')\nTop_Clubs = ['Real Madrid', 'FC Barcelona', 'FC Bayern', 'Manchester Utd', 'Chelsea',\n            'Arsenal', 'Juventus', 'PSG', 'Atlético Madrid']\nMax_Contract_Period['Contract_Validity'].loc[Top_Clubs].plot(kind = 'bar')",
      "execution_count": 127,
      "outputs": [
        {
          "output_type": "execute_result",
          "execution_count": 127,
          "data": {
            "text/plain": "<matplotlib.axes._subplots.AxesSubplot at 0x7f9288d3ed30>"
          },
          "metadata": {}
        },
        {
          "output_type": "display_data",
          "data": {
            "text/plain": "<matplotlib.figure.Figure at 0x7f9288dfa550>",
            "image/png": "[encoded data removed]"
          },
          "metadata": {}
        }
      ]
    },
    {
      "metadata": {
        "_cell_guid": "de634049-2d03-4c58-9f89-3c5dc9a8d542",
        "_uuid": "17f5f2b93c13e161a41acca98e1a4cf15256e352"
      },
      "cell_type": "markdown",
      "source": "* >**Analytics on GoalKeepers**"
    },
    {
      "metadata": {
        "_cell_guid": "6555e244-1222-4350-84dd-47b36395d60b",
        "_uuid": "03b8ee15f1b24dbaeb2ad490cf55390c080ec095",
        "collapsed": true,
        "trusted": true
      },
      "cell_type": "code",
      "source": "dffulldata = pd.read_csv('../input/FullData.csv') ",
      "execution_count": 104,
      "outputs": []
    },
    {
      "metadata": {
        "_cell_guid": "9aaef140-2875-435f-9d2a-652d9bac26e2",
        "_uuid": "32f1f009dd2803215870156ec8d2c41f90bbea44",
        "collapsed": true,
        "trusted": true
      },
      "cell_type": "code",
      "source": "GoalKeeper_attri = ['GK_Positioning', 'GK_Diving', 'GK_Kicking', 'GK_Handling', 'GK_Reflexes']",
      "execution_count": 105,
      "outputs": []
    },
    {
      "metadata": {
        "_cell_guid": "d406344c-b556-4f9b-ad44-9980c30e1c0e",
        "_uuid": "33d609e29314a4e740b7b4cf29af7a604ab3fd46",
        "collapsed": true,
        "trusted": true
      },
      "cell_type": "code",
      "source": "'''Normalizing the data on the Above attributes'''\n\nfor features in GoalKeeper_attri:\n    dffulldata[features] = (dffulldata[features] - dffulldata[features].mean()) / (max(dffulldata[features]) - min(dffulldata[features]))",
      "execution_count": 106,
      "outputs": []
    },
    {
      "metadata": {
        "_cell_guid": "f9921182-b6f2-47b7-9b7e-78b1a1ec13ec",
        "_uuid": "053790f32ceea84c593e03685cd97f5b29c2311e",
        "collapsed": true,
        "trusted": true
      },
      "cell_type": "code",
      "source": "dffulldata.head(10)\ndffulldata['Average_GKSkill'] = np.zeros(dffulldata.shape[0])\nfor index in range(dffulldata.shape[0]):\n    dffulldata['Average_GKSkill'] += (dffulldata[ 'GK_Positioning'] + dffulldata['GK_Diving'] + \n                                             dffulldata['GK_Kicking'] + dffulldata['GK_Handling']\n                                             + dffulldata['GK_Reflexes']) / 5.0;\ndffulldata['Average_GKSkill'] = dffulldata[GoalKeeper_attri] / len(GoalKeeper_attri)",
      "execution_count": 107,
      "outputs": []
    },
    {
      "metadata": {
        "_cell_guid": "e42d85ab-0aae-45b4-a516-5c983c694276",
        "_uuid": "f9b0cdc90e0582079ce86096216167e25152f3d2",
        "trusted": true
      },
      "cell_type": "code",
      "source": "dffulldata['Average_GKSkill'][0:10]",
      "execution_count": 108,
      "outputs": [
        {
          "output_type": "execute_result",
          "execution_count": 108,
          "data": {
            "text/plain": "0   -0.005799\n1   -0.005799\n2   -0.003577\n3    0.036423\n4    0.165312\n5    0.154201\n6   -0.019132\n7   -0.025799\n8   -0.016910\n9    0.154201\nName: Average_GKSkill, dtype: float64"
          },
          "metadata": {}
        }
      ]
    },
    {
      "metadata": {
        "_cell_guid": "21f61d96-7a55-4b7c-8bc0-583d0f51246f",
        "_uuid": "69a6d71b4b00f67f01f1df7b5f5457809ac10b65",
        "trusted": true
      },
      "cell_type": "code",
      "source": "ClubWise_GK = dffulldata.groupby(['Club'])['Name', 'Club', 'Average_GKSkill'].max()\nClubWise_GK.head()",
      "execution_count": 109,
      "outputs": [
        {
          "output_type": "execute_result",
          "execution_count": 109,
          "data": {
            "text/plain": "                            Name              Club  Average_GKSkill\nClub                                                               \n1. FC Heidenheim    Vitus Eicher  1. FC Heidenheim         0.114201\n1. FC Köln            Yūya Ōsako        1. FC Köln         0.145312\n1. FC Nürnberg      Willi Evseev    1. FC Nürnberg         0.125312\n1. FSV Mainz 05   Yoshinori Mutō   1. FSV Mainz 05         0.127534\n1860 München      Victor Andrade      1860 München         0.114201",
            "text/html": "<div>\n<style scoped>\n    .dataframe tbody tr th:only-of-type {\n        vertical-align: middle;\n    }\n\n    .dataframe tbody tr th {\n        vertical-align: top;\n    }\n\n    .dataframe thead th {\n        text-align: right;\n    }\n</style>\n<table border=\"1\" class=\"dataframe\">\n  <thead>\n    <tr style=\"text-align: right;\">\n      <th></th>\n      <th>Name</th>\n      <th>Club</th>\n      <th>Average_GKSkill</th>\n    </tr>\n    <tr>\n      <th>Club</th>\n      <th></th>\n      <th></th>\n      <th></th>\n    </tr>\n  </thead>\n  <tbody>\n    <tr>\n      <th>1. FC Heidenheim</th>\n      <td>Vitus Eicher</td>\n      <td>1. FC Heidenheim</td>\n      <td>0.114201</td>\n    </tr>\n    <tr>\n      <th>1. FC Köln</th>\n      <td>Yūya Ōsako</td>\n      <td>1. FC Köln</td>\n      <td>0.145312</td>\n    </tr>\n    <tr>\n      <th>1. FC Nürnberg</th>\n      <td>Willi Evseev</td>\n      <td>1. FC Nürnberg</td>\n      <td>0.125312</td>\n    </tr>\n    <tr>\n      <th>1. FSV Mainz 05</th>\n      <td>Yoshinori Mutō</td>\n      <td>1. FSV Mainz 05</td>\n      <td>0.127534</td>\n    </tr>\n    <tr>\n      <th>1860 München</th>\n      <td>Victor Andrade</td>\n      <td>1860 München</td>\n      <td>0.114201</td>\n    </tr>\n  </tbody>\n</table>\n</div>"
          },
          "metadata": {}
        }
      ]
    },
    {
      "metadata": {
        "_cell_guid": "b0e7a3be-f76b-4535-b3c6-50368108ed35",
        "_uuid": "712625b4c3d2d8f036791ee08ff68e93803454ef",
        "trusted": true
      },
      "cell_type": "code",
      "source": "plt.style.use('ggplot')\nClubWise_GK['Average_GKSkill'].loc[Top_Clubs].plot(kind = 'bar')",
      "execution_count": 126,
      "outputs": [
        {
          "output_type": "execute_result",
          "execution_count": 126,
          "data": {
            "text/plain": "<matplotlib.axes._subplots.AxesSubplot at 0x7f9288dfae80>"
          },
          "metadata": {}
        },
        {
          "output_type": "display_data",
          "data": {
            "text/plain": "<matplotlib.figure.Figure at 0x7f9288dfa710>",
            "image/png": "[encoded data removed]"
          },
          "metadata": {}
        }
      ]
    },
    {
      "metadata": {
        "_cell_guid": "610fe2b6-6749-47ec-9790-6dd0e67f6522",
        "_uuid": "57f43018c1dafe56926b34e0679566be5f9fe7e7",
        "trusted": true
      },
      "cell_type": "code",
      "source": "'''Find the Club having best Goal Keeper'''\ndffulldata.loc[np.argmax(dffulldata['Average_GKSkill']),['Name', 'Nationality', 'Club']]",
      "execution_count": 111,
      "outputs": [
        {
          "output_type": "stream",
          "text": "/opt/conda/lib/python3.6/site-packages/numpy/core/fromnumeric.py:57: FutureWarning: 'argmax' is deprecated. Use 'idxmax' instead. The behavior of 'argmax' will be corrected to return the positional maximum in the future. Use 'series.values.argmax' to get the position of the maximum now.\n  return getattr(obj, method)(*args, **kwds)\n",
          "name": "stderr"
        },
        {
          "output_type": "execute_result",
          "execution_count": 111,
          "data": {
            "text/plain": "Name           Manuel Neuer\nNationality         Germany\nClub              FC Bayern\nName: 4, dtype: object"
          },
          "metadata": {}
        }
      ]
    },
    {
      "metadata": {
        "_uuid": "a56d55d5f7cd2fee6934d19a9fd50adedc28cfbd"
      },
      "cell_type": "markdown",
      "source": "* >**Analytics on the best Goal**"
    },
    {
      "metadata": {
        "trusted": true,
        "collapsed": true,
        "_uuid": "74f1538a63006fd9e56ea0dee421e033e5688a0a"
      },
      "cell_type": "code",
      "source": "'''Reimporting the FullData.csv'''\n\ndffulldata = pd.read_csv(\"../input/FullData.csv\")",
      "execution_count": 112,
      "outputs": []
    },
    {
      "metadata": {
        "collapsed": true,
        "trusted": true,
        "_uuid": "361760cf18935541c12e6da7bf934579e48bf41c"
      },
      "cell_type": "code",
      "source": "Goal_Feature_vector = ['Shot_Power','Heading', 'Volleys', 'Penalties','Finishing', 'Ball_Control', 'Dribbling', 'Short_Pass', 'Freekick_Accuracy']",
      "execution_count": 113,
      "outputs": []
    },
    {
      "metadata": {
        "trusted": true,
        "_uuid": "7006a4c1a6b1d8dcfdc4d7fde9828500be0cb809"
      },
      "cell_type": "code",
      "source": "dffulldata[Goal_Feature_vector].head()",
      "execution_count": 114,
      "outputs": [
        {
          "output_type": "execute_result",
          "execution_count": 114,
          "data": {
            "text/plain": "   Shot_Power  Heading  Volleys  Penalties  Finishing  Ball_Control  \\\n0          92       85       88         85         93            93   \n1          85       71       85         74         95            95   \n2          78       62       83         81         89            95   \n3          87       77       88         85         94            91   \n4          25       25       11         47         13            48   \n\n   Dribbling  Short_Pass  Freekick_Accuracy  \n0         92          83                 76  \n1         97          88                 90  \n2         96          81                 84  \n3         86          83                 84  \n4         30          55                 11  ",
            "text/html": "<div>\n<style scoped>\n    .dataframe tbody tr th:only-of-type {\n        vertical-align: middle;\n    }\n\n    .dataframe tbody tr th {\n        vertical-align: top;\n    }\n\n    .dataframe thead th {\n        text-align: right;\n    }\n</style>\n<table border=\"1\" class=\"dataframe\">\n  <thead>\n    <tr style=\"text-align: right;\">\n      <th></th>\n      <th>Shot_Power</th>\n      <th>Heading</th>\n      <th>Volleys</th>\n      <th>Penalties</th>\n      <th>Finishing</th>\n      <th>Ball_Control</th>\n      <th>Dribbling</th>\n      <th>Short_Pass</th>\n      <th>Freekick_Accuracy</th>\n    </tr>\n  </thead>\n  <tbody>\n    <tr>\n      <th>0</th>\n      <td>92</td>\n      <td>85</td>\n      <td>88</td>\n      <td>85</td>\n      <td>93</td>\n      <td>93</td>\n      <td>92</td>\n      <td>83</td>\n      <td>76</td>\n    </tr>\n    <tr>\n      <th>1</th>\n      <td>85</td>\n      <td>71</td>\n      <td>85</td>\n      <td>74</td>\n      <td>95</td>\n      <td>95</td>\n      <td>97</td>\n      <td>88</td>\n      <td>90</td>\n    </tr>\n    <tr>\n      <th>2</th>\n      <td>78</td>\n      <td>62</td>\n      <td>83</td>\n      <td>81</td>\n      <td>89</td>\n      <td>95</td>\n      <td>96</td>\n      <td>81</td>\n      <td>84</td>\n    </tr>\n    <tr>\n      <th>3</th>\n      <td>87</td>\n      <td>77</td>\n      <td>88</td>\n      <td>85</td>\n      <td>94</td>\n      <td>91</td>\n      <td>86</td>\n      <td>83</td>\n      <td>84</td>\n    </tr>\n    <tr>\n      <th>4</th>\n      <td>25</td>\n      <td>25</td>\n      <td>11</td>\n      <td>47</td>\n      <td>13</td>\n      <td>48</td>\n      <td>30</td>\n      <td>55</td>\n      <td>11</td>\n    </tr>\n  </tbody>\n</table>\n</div>"
          },
          "metadata": {}
        }
      ]
    },
    {
      "metadata": {
        "collapsed": true,
        "trusted": true,
        "_uuid": "e133b55cc41369ed593fa0df560ad1a8f7a3b652"
      },
      "cell_type": "code",
      "source": "'''Normailze the above Features'''\n\nfor features in Goal_Feature_vector:\n    dffulldata[features] = (dffulldata[features] - dffulldata[features].mean()) / (max(dffulldata[features]) - min(dffulldata[features]))",
      "execution_count": 115,
      "outputs": []
    },
    {
      "metadata": {
        "trusted": true,
        "_uuid": "287954609f7375117b552a771e9841c6ae1d15c4"
      },
      "cell_type": "code",
      "source": "dffulldata[Goal_Feature_vector].head()",
      "execution_count": 116,
      "outputs": [
        {
          "output_type": "execute_result",
          "execution_count": 116,
          "data": {
            "text/plain": "   Shot_Power   Heading   Volleys  Penalties  Finishing  Ball_Control  \\\n0    0.404653  0.362299  0.496938   0.402632   0.514434      0.389191   \n1    0.326876  0.206743  0.463605   0.279037   0.535940      0.411414   \n2    0.249098  0.106743  0.441382   0.357688   0.471424      0.411414   \n3    0.349098  0.273410  0.496938   0.402632   0.525187      0.366969   \n4   -0.339791 -0.304368 -0.358618  -0.024334  -0.345781     -0.110809   \n\n   Dribbling  Short_Pass  Freekick_Accuracy  \n0   0.399969    0.303417           0.366478  \n1   0.453733    0.364393           0.523782  \n2   0.442980    0.279027           0.456366  \n3   0.335453    0.303417           0.456366  \n4  -0.266698   -0.038046          -0.363859  ",
            "text/html": "<div>\n<style scoped>\n    .dataframe tbody tr th:only-of-type {\n        vertical-align: middle;\n    }\n\n    .dataframe tbody tr th {\n        vertical-align: top;\n    }\n\n    .dataframe thead th {\n        text-align: right;\n    }\n</style>\n<table border=\"1\" class=\"dataframe\">\n  <thead>\n    <tr style=\"text-align: right;\">\n      <th></th>\n      <th>Shot_Power</th>\n      <th>Heading</th>\n      <th>Volleys</th>\n      <th>Penalties</th>\n      <th>Finishing</th>\n      <th>Ball_Control</th>\n      <th>Dribbling</th>\n      <th>Short_Pass</th>\n      <th>Freekick_Accuracy</th>\n    </tr>\n  </thead>\n  <tbody>\n    <tr>\n      <th>0</th>\n      <td>0.404653</td>\n      <td>0.362299</td>\n      <td>0.496938</td>\n      <td>0.402632</td>\n      <td>0.514434</td>\n      <td>0.389191</td>\n      <td>0.399969</td>\n      <td>0.303417</td>\n      <td>0.366478</td>\n    </tr>\n    <tr>\n      <th>1</th>\n      <td>0.326876</td>\n      <td>0.206743</td>\n      <td>0.463605</td>\n      <td>0.279037</td>\n      <td>0.535940</td>\n      <td>0.411414</td>\n      <td>0.453733</td>\n      <td>0.364393</td>\n      <td>0.523782</td>\n    </tr>\n    <tr>\n      <th>2</th>\n      <td>0.249098</td>\n      <td>0.106743</td>\n      <td>0.441382</td>\n      <td>0.357688</td>\n      <td>0.471424</td>\n      <td>0.411414</td>\n      <td>0.442980</td>\n      <td>0.279027</td>\n      <td>0.456366</td>\n    </tr>\n    <tr>\n      <th>3</th>\n      <td>0.349098</td>\n      <td>0.273410</td>\n      <td>0.496938</td>\n      <td>0.402632</td>\n      <td>0.525187</td>\n      <td>0.366969</td>\n      <td>0.335453</td>\n      <td>0.303417</td>\n      <td>0.456366</td>\n    </tr>\n    <tr>\n      <th>4</th>\n      <td>-0.339791</td>\n      <td>-0.304368</td>\n      <td>-0.358618</td>\n      <td>-0.024334</td>\n      <td>-0.345781</td>\n      <td>-0.110809</td>\n      <td>-0.266698</td>\n      <td>-0.038046</td>\n      <td>-0.363859</td>\n    </tr>\n  </tbody>\n</table>\n</div>"
          },
          "metadata": {}
        }
      ]
    },
    {
      "metadata": {
        "collapsed": true,
        "trusted": true,
        "_uuid": "6f96614a52faa101066c257cc3087b954c8308d5"
      },
      "cell_type": "code",
      "source": "'''Take mean of the above attributes as the \"Goal_Score\" Attribute'''\n\ndffulldata['Goal_Score'] = np.zeros(dffulldata.shape[0])\nfor features in Goal_Feature_vector:\n    dffulldata['Goal_Score'] += (dffulldata[features]) / float(len(Goal_Feature_vector))\n",
      "execution_count": 118,
      "outputs": []
    },
    {
      "metadata": {
        "trusted": true,
        "_uuid": "a59e4a6a5e4c13639aafb3c0b6babfbad2b74e24"
      },
      "cell_type": "code",
      "source": "'''Best Player according to the Goal_Score'''\n\nBest_Index = np.argmax(dffulldata['Goal_Score'])\ndffulldata.loc[Best_Index, ['Name', 'Nationality', 'Club']]",
      "execution_count": 124,
      "outputs": [
        {
          "output_type": "stream",
          "text": "/opt/conda/lib/python3.6/site-packages/numpy/core/fromnumeric.py:57: FutureWarning: 'argmax' is deprecated. Use 'idxmax' instead. The behavior of 'argmax' will be corrected to return the positional maximum in the future. Use 'series.values.argmax' to get the position of the maximum now.\n  return getattr(obj, method)(*args, **kwds)\n",
          "name": "stderr"
        },
        {
          "output_type": "execute_result",
          "execution_count": 124,
          "data": {
            "text/plain": "Name           Zlatan Ibrahimović\nNationality                Sweden\nClub               Manchester Utd\nName: 8, dtype: object"
          },
          "metadata": {}
        }
      ]
    }
  ],
  "metadata": {
    "kernelspec": {
      "display_name": "Python 3",
      "language": "python",
      "name": "python3"
    },
    "language_info": {
      "name": "python",
      "version": "3.6.3",
      "mimetype": "text/x-python",
      "codemirror_mode": {
        "name": "ipython",
        "version": 3
      },
      "pygments_lexer": "ipython3",
      "nbconvert_exporter": "python",
      "file_extension": ".py"
    }
  },
  "nbformat": 4,
  "nbformat_minor": 1
}