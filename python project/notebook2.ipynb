{
  "cells": [
    {
      "metadata": {
        "_cell_guid": "403edcdc-321e-4718-94ea-b23ef50761c4",
        "_uuid": "2b3730283a666eec62d57cb5daf8d4e4680b8137",
        "trusted": false,
        "collapsed": true
      },
      "cell_type": "code",
      "source": "# This Python 3 environment comes with many helpful analytics libraries installed\n# It is defined by the kaggle/python docker image: https://github.com/kaggle/docker-python\n# For example, here's several helpful packages to load in \n\nimport numpy as np # linear algebra\nimport pandas as pd # data processing, CSV file I/O (e.g. pd.read_csv)\n\n# Input data files are available in the \"../input/\" directory.\n# For example, running this (by clicking run or pressing Shift+Enter) will list the files in the input directory\n\nfrom subprocess import check_output\nprint(check_output([\"ls\", \"../input\"]).decode(\"utf8\"))\n\n# Any results you write to the current directory are saved as output.",
      "execution_count": null,
      "outputs": []
    },
    {
      "metadata": {
        "_cell_guid": "0f773c57-4093-4a70-8e38-0073e40bea0d",
        "_uuid": "bdd0dac12a1c92440962b3ba7d22d60d3f464e37",
        "trusted": false,
        "collapsed": true
      },
      "cell_type": "code",
      "source": "\ncon_dict={'St Lucia':'North_America', 'Timor-Leste':'Asia', 'Gibraltar':'Europe', 'Korea DPR':'Asia', 'Antigua & Barbuda':'North_America', 'Puerto Rico':'North_America', 'Montserrat':'North_America','Faroe Islands':'Europe', 'Chinese Taipei':'Asia', 'Guam':'Africa', 'Aruba':'South_America','China PR':'Asia', 'Trinidad & Tobago':'South_America','St Kitts Nevis':'North_America','Central African Rep.':'Europe', 'Bermuda':'North_America','Palestine':'Asia', 'FIFA16_NationName_215':'Europe','FYR Macedonia':'Europe','Curacao':'South_America', 'São Tomé & Príncipe':'Africa', 'Kosovo':'Europe', 'Guinea Bissau':'Africa', 'Scotland':'Europe', 'Northern Ireland':'Europe','Korea Republic':'Asia','Northern Ireland':'Europe','DR Congo':'Africa', 'Bosnia Herzegovina':'Europe','Serbia':'Europe','Algeria':'Africa','Angola':'Africa','Benin':'Africa','Botswana':'Africa','Burkina':'Africa','Burundi':'Africa','Cameroon':'Africa','Cape Verde':'Africa','Central African Republic':'Africa','Chad':'Africa','Comoros':'Africa','Congo':'Africa','Congo Democratic Republic of':'Africa','Djibouti':'Africa','Egypt':'Africa','Equatorial Guinea':'Africa','Eritrea':'Africa','Ethiopia':'Africa','Gabon':'Africa','Gambia':'Africa','Ghana':'Africa','Guinea':'Africa','Guinea-Bissau':'Africa','Ivory Coast':'Africa','Kenya':'Africa','Lesotho':'Africa','Liberia':'Africa','Libya':'Africa','Madagascar':'Africa','Malawi':'Africa','Mali':'Africa','Mauritania':'Africa','Mauritius':'Africa','Morocco':'Africa','Mozambique':'Africa','Namibia':'Africa','Niger':'Africa','Nigeria':'Africa','Rwanda':'Africa','Sao Tome and Principe':'Africa','Senegal':'Africa','Seychelles':'Africa','Sierra Leone':'Africa','Somalia':'Africa','South Africa':'Africa','South Sudan':'Africa','Sudan':'Africa','Swaziland':'Africa','Tanzania':'Africa','Togo':'Africa','Tunisia':'Africa','Uganda':'Africa','Zambia':'Africa','Zimbabwe':'Africa','Burkina Faso':'Africa','Afghanistan':'Asia','Bahrain':'Asia','Bangladesh':'Asia','Bhutan':'Asia','Brunei':'Asia','Burma (Myanmar)':'Asia','Cambodia':'Asia','China':'Asia','East Timor':'Asia','India':'Asia','Indonesia':'Asia','Iran':'Asia','Iraq':'Asia','Israel':'Asia','Japan':'Asia','Jordan':'Asia','Kazakhstan':'Asia','North Korea':'Asia','South Korea':'Asia','Kuwait':'Asia','Kyrgyzstan':'Asia','Laos':'Asia','Lebanon':'Asia','Malaysia':'Asia','Maldives':'Asia','Mongolia':'Asia','Nepal':'Asia','Oman':'Asia','Pakistan':'Asia','Philippines':'Asia','Qatar':'Asia','Russian Federation':'Asia','Saudi Arabia':'Asia','Singapore':'Asia','Sri Lanka':'Asia','Syria':'Asia','Tajikistan':'Asia','Thailand':'Asia','Turkey':'Asia','Turkmenistan':'Asia','United Arab Emirates':'Asia','Uzbekistan':'Asia','Vietnam':'Asia','Yemen':'Asia','Russia':'Asia','Albania':'Europe','Andorra':'Europe','Armenia':'Europe','Austria':'Europe','Azerbaijan':'Europe','Belarus':'Europe','Belgium':'Europe','Bosnia and Herzegovina':'Europe','Bulgaria':'Europe','Croatia':'Europe','Cyprus':'Europe','Czech Republic':'Europe','Denmark':'Europe','Estonia':'Europe','Finland':'Europe','France':'Europe','Georgia':'Europe','Germany':'Europe','Greece':'Europe','Hungary':'Europe','Iceland':'Europe','Ireland':'Europe','Italy':'Europe','Latvia':'Europe','Liechtenstein':'Europe','Lithuania':'Europe','Luxembourg':'Europe','Macedonia':'Europe','Malta':'Europe','Moldova':'Europe','Monaco':'Europe','Montenegro':'Europe','Netherlands':'Europe','Norway':'Europe','Poland':'Europe','Portugal':'Europe','Romania':'Europe','San Marino':'Europe','Serbi':'Europe','Slovakia':'Europe','Slovenia':'Europe','Spain':'Europe','Sweden':'Europe','Switzerland':'Europe','Ukraine':'Europe','England':'Europe','Vatican City':'Europe','Republic of Ireland':'Europe','Wales':'Europe','Antigua and Barbuda':'North_America','Bahamas':'North_America','Barbados':'North_America','Belize':'North_America','Canada':'North_America','Costa Rica':'North_America','Cuba':'North_America','Dominica':'North_America','Dominican Republic':'North_America','El Salvador':'North_America','Grenada':'North_America','Guatemala':'North_America','Haiti':'North_America','Honduras':'North_America','Jamaica':'North_America','Mexico':'North_America','Nicaragua':'North_America','Panama':'North_America','Saint Kitts and Nevis':'North_America','Saint Lucia':'North_America','Saint Vincent and the Grenadines':'North_America','Trinidad and Tobago':'North_America','United States':'North_America','Australia':'Oceania','Fiji':'Oceania','Kiribati':'Oceania','Marshall Islands':'Oceania','Micronesia':'Oceania','Nauru':'Oceania','New Zealand':'Oceania','Palau':'Oceania','Papua New Guinea':'Oceania','Samoa':'Oceania','Solomon Islands':'Oceania','Tonga':'Oceania','Tuvalu':'Oceania','Vanuatu':'Oceania','Argentina':'South_America','Bolivia':'South_America','Brazil':'South_America','Chile':'South_America','Colombia':'South_America','Ecuador':'South_America','Guyana':'South_America','Paraguay':'South_America','Peru':'South_America','Suriname':'South_America','Uruguay':'South_America','Venezuela':'South_America'}\n\nlen(con_dict)",
      "execution_count": null,
      "outputs": []
    },
    {
      "metadata": {
        "collapsed": true,
        "_cell_guid": "d14eb080-4013-4981-bcb8-da6fa4c6f078",
        "_uuid": "68ee78baf7b86854534fc690b0ea18f874831be6",
        "trusted": false
      },
      "cell_type": "code",
      "source": "'''Make dataframes of each of the csv file'''\n\ndfclubnames = pd.read_csv('../input/ClubNames.csv')\ndffulldata = pd.read_csv('../input/FullData.csv')\ndfnationalnames = pd.read_csv('../input/NationalNames.csv')\ndfplayernames = pd.read_csv('../input/PlayerNames.csv')",
      "execution_count": null,
      "outputs": []
    },
    {
      "metadata": {
        "collapsed": true,
        "_cell_guid": "9c1b1eb8-8dc2-4be9-a674-8dd05e886097",
        "_uuid": "0b305ccbf74d6d4b0d13598913fa43d1964f332a",
        "trusted": false
      },
      "cell_type": "code",
      "source": "'''There are 160 countries in total\nAppending the dffulldata to contain another attribute that is Continent'''\n\nfor index in range(dffulldata.shape[0]):\n    dffulldata.loc[index, 'Continent'] = con_dict[dffulldata.loc[index, 'Nationality']]",
      "execution_count": null,
      "outputs": []
    },
    {
      "metadata": {
        "_cell_guid": "eaa3164d-676b-4a59-af18-352ea5292e95",
        "_uuid": "3f488939c1d56063e765eebb2cb651649da64886",
        "trusted": false,
        "collapsed": true
      },
      "cell_type": "code",
      "source": "dffulldata.head()",
      "execution_count": null,
      "outputs": []
    },
    {
      "metadata": {
        "collapsed": true,
        "_cell_guid": "1432fb6a-eb21-4958-87fc-03cf3d5f7615",
        "_uuid": "ba8a6d4566ae05f06e6272c7d76dd0c828a68617",
        "trusted": false
      },
      "cell_type": "code",
      "source": "Feature_set = [ 'Dribbling', 'Stamina', 'Ball_Control', 'Acceleration', 'Speed', 'Agility', 'Finishing']",
      "execution_count": null,
      "outputs": []
    },
    {
      "metadata": {
        "_cell_guid": "5bc83466-f262-4885-8b2b-7e9bde7f4e57",
        "_uuid": "1e5e0ffea23d85d783cf7892ecb5bff786ead356",
        "trusted": false,
        "collapsed": true
      },
      "cell_type": "code",
      "source": "'''Normalize the Data'''\nfor features in Feature_set:\n    dffulldata.loc[:, features] = (dffulldata.loc[:, features] - dffulldata.loc[:, features].mean()) / float(max(dffulldata.loc[:, features]) - min(dffulldata.loc[:, features]))",
      "execution_count": null,
      "outputs": []
    },
    {
      "metadata": {
        "_cell_guid": "5bef2e18-d56a-4cac-a889-f576cbca5051",
        "_uuid": "ee5de9206327bd34da57e26e846e504d46355ebc",
        "trusted": false,
        "collapsed": true
      },
      "cell_type": "code",
      "source": "Continent_Feature_Matrix = dffulldata.groupby(['Continent'])[Feature_set].mean()",
      "execution_count": null,
      "outputs": []
    },
    {
      "metadata": {
        "_cell_guid": "ae32adf6-1050-4af4-b004-06f3ca20a978",
        "_uuid": "c29f49ed7926cb743bdbf29b2b3bab5f5ddc84ed",
        "trusted": false,
        "collapsed": true
      },
      "cell_type": "code",
      "source": "Continent_names = ['Africa', 'Asia', 'Europe', 'North_America', 'Oceania', 'South_America']\nBest_Feature_dict = {}\n\nfor continent in Continent_names:\n    Best_Feature_dict[continent] = np.argmax(Continent_Feature_Matrix.loc[continent, :])",
      "execution_count": null,
      "outputs": []
    },
    {
      "metadata": {
        "_cell_guid": "71ee5843-aa0d-4864-8139-687575dce59e",
        "_uuid": "d8ef9bb3c16bd3ce471292493f442d0437ddc0ad",
        "trusted": false,
        "collapsed": true
      },
      "cell_type": "code",
      "source": "Best_Feature_dict",
      "execution_count": null,
      "outputs": []
    }
  ],
  "metadata": {
    "kernelspec": {
      "display_name": "Python 3",
      "language": "python",
      "name": "python3"
    },
    "language_info": {
      "name": "python",
      "version": "3.6.3",
      "mimetype": "text/x-python",
      "codemirror_mode": {
        "name": "ipython",
        "version": 3
      },
      "pygments_lexer": "ipython3",
      "nbconvert_exporter": "python",
      "file_extension": ".py"
    }
  },
  "nbformat": 4,
  "nbformat_minor": 1
}